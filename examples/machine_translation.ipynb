{
 "cells": [
  {
   "attachments": {},
   "cell_type": "markdown",
   "id": "biblical-offer",
   "metadata": {},
   "source": [
    "## Machine Translation Examples\n",
    "- Machine translation examples using fine-tuned Facebook NLLB models."
   ]
  },
  {
   "cell_type": "code",
   "execution_count": null,
   "id": "coordinated-locator",
   "metadata": {},
   "outputs": [],
   "source": [
    "import konta.konta"
   ]
  },
  {
   "cell_type": "code",
   "execution_count": 2,
   "id": "deadly-valentine",
   "metadata": {},
   "outputs": [],
   "source": [
    "mt = KoNTA(task=\"translation\")"
   ]
  },
  {
   "cell_type": "code",
   "execution_count": 3,
   "id": "wired-colombia",
   "metadata": {},
   "outputs": [
    {
     "data": {
      "text/plain": [
       "'Kevin is still working.'"
      ]
     },
     "execution_count": 3,
     "metadata": {},
     "output_type": "execute_result"
    }
   ],
   "source": [
    "mt(\"케빈은 아직도 일을 하고 있다.\", src=\"ko\", tgt=\"en\")"
   ]
  },
  {
   "cell_type": "code",
   "execution_count": null,
   "id": "04840c62",
   "metadata": {},
   "outputs": [],
   "source": [
    "mt(\"케빈은 아직도 일을 하고 있다.\", src=\"en\", tgt=\"ko\")"
   ]
  }
 ],
 "metadata": {
  "kernelspec": {
   "display_name": "Python 3",
   "language": "python",
   "name": "python3"
  },
  "language_info": {
   "codemirror_mode": {
    "name": "ipython",
    "version": 3
   },
   "file_extension": ".py",
   "mimetype": "text/x-python",
   "name": "python",
   "nbconvert_exporter": "python",
   "pygments_lexer": "ipython3",
   "version": "3.8.16"
  }
 },
 "nbformat": 4,
 "nbformat_minor": 5
}
