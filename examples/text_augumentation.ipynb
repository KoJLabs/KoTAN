{
 "cells": [
  {
   "attachments": {},
   "cell_type": "markdown",
   "metadata": {},
   "source": [
    "## Text Augumentation Examples\n",
    "- Text Augumentation examples using fine-tuned Facebook NLLB models."
   ]
  },
  {
   "cell_type": "code",
   "execution_count": null,
   "metadata": {},
   "outputs": [],
   "source": [
    "from konta_demo.konta import KoNTA"
   ]
  },
  {
   "cell_type": "code",
   "execution_count": null,
   "metadata": {},
   "outputs": [],
   "source": [
    "bt = KoNTA(task=\"augumentation\", src=\"ko\")"
   ]
  },
  {
   "cell_type": "code",
   "execution_count": null,
   "metadata": {},
   "outputs": [],
   "source": [
    "inputs= ['데이터 분석을 시작해보려고 한다.', '가나다라마바사 아자카ㅏ재베ㅏㅈㅂ.', '데이터 분석을 시작해보려고 한다.', '데이터 분석을 시작해보려고 한다.', '데이터 분석을 시작해보려고 한다.', '데이터 분석을 시작해보려고 한다.'\n",
    "            ,'나는 분식집을 갑니다.', '데이터 분석을 시작해보려고 한다.','데이터 분석을 시작해보려고 한다.', '데이터 분석을 시작해보려고 한다.','데이터 분석을 시작해보려고 한다.', '데이터 분석을 시작해보려고 한다.'\n",
    "            ,'정말로 긴문장을 적고 싶어서 아무말이나 엄청나게 적고 있습니다. 하지만 무엇을 적어야 하는지 모르겠습니다.', '데이터 분석을 시작해보려고 한다.','데이터 분석을 시작해보려고 한다.', '데이터 분석을 시작해보려고 한다.','데이터 분석을 시작해보려고 한다.', '데이터 분석을 시작해보려고 한다.',\n",
    "            '데이터 분석을 시작해보려고 한다.', '데이터 분석을 시작해보려고 한다.','데이터 분석을 시작해보려고 한다.', '데이터 분석을 시작해보려고 한다.','데이터 분석을 시작해보려고 한다.', '데이터 분석을 시작해보려고 한다.',\n",
    "            ]"
   ]
  },
  {
   "cell_type": "code",
   "execution_count": null,
   "metadata": {},
   "outputs": [],
   "source": [
    "result = bt.predict(inputs)"
   ]
  }
 ],
 "metadata": {
  "language_info": {
   "name": "python"
  },
  "orig_nbformat": 4
 },
 "nbformat": 4,
 "nbformat_minor": 2
}
