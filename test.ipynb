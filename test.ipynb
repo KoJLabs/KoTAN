{
 "cells": [
  {
   "cell_type": "markdown",
   "metadata": {},
   "source": []
  },
  {
   "cell_type": "code",
   "execution_count": 1,
   "metadata": {},
   "outputs": [],
   "source": [
    "import konta"
   ]
  },
  {
   "cell_type": "code",
   "execution_count": 2,
   "metadata": {},
   "outputs": [],
   "source": [
    "mt = konta.KoNTA(task=\"translation\", tgt=\"en\")"
   ]
  },
  {
   "cell_type": "code",
   "execution_count": 3,
   "metadata": {},
   "outputs": [
    {
     "name": "stderr",
     "output_type": "stream",
     "text": [
      "Keyword arguments {'return_tensor': 'pt'} not recognized.\n"
     ]
    },
    {
     "data": {
      "text/plain": [
       "['선선의 제조방법,']"
      ]
     },
     "execution_count": 3,
     "metadata": {},
     "output_type": "execute_result"
    }
   ],
   "source": [
    "mt.predict(\"A method of manufacturing a stranded bead wire, comprising\", tgt=\"ko\")"
   ]
  },
  {
   "cell_type": "code",
   "execution_count": 5,
   "metadata": {},
   "outputs": [],
   "source": [
    "import pandas as pd\n",
    "\n",
    "df = pd.read_feather(\"/home/jisukim/online/backtranslation/sample_datasets/en_ko_train.feature\")"
   ]
  },
  {
   "cell_type": "code",
   "execution_count": 6,
   "metadata": {},
   "outputs": [
    {
     "name": "stderr",
     "output_type": "stream",
     "text": [
      "Keyword arguments {'return_tensor': 'pt'} not recognized.\n",
      "Keyword arguments {'return_tensor': 'pt'} not recognized.\n"
     ]
    },
    {
     "name": "stdout",
     "output_type": "stream",
     "text": [
      "['실은 원자선의 제조 방법으로는 반구 원자선의 원자선을 그 둘레 방향으로 회전하는 것을 포함하고, 철이 부딪힌 롤의 외곽 지름이 반구 원자선보다 작도록 부딪히는 사이두 선형 상호작용 운동을 반복하는 한편, 반구 원자선의 원자선의 원자선의 원자선의 원자선 방향으로 반구 원자선의 원자선의 원자선 방향으로 상대적으로 이동하는 방식으로 반구 원자선의 한 쪽에서 반구 원자선을 가로지르고, 그 뒤']\n"
     ]
    },
    {
     "name": "stderr",
     "output_type": "stream",
     "text": [
      "Keyword arguments {'return_tensor': 'pt'} not recognized.\n"
     ]
    },
    {
     "name": "stdout",
     "output_type": "stream",
     "text": [
      "['은 은 은 은 은 은 은 은 은 은 은 은 은 은 은 은 은 은 은 은 은 은 은 은 은 은 은 은 은 은 은 은 은 은 은 은 은 은 은 은 은 은']\n"
     ]
    },
    {
     "name": "stderr",
     "output_type": "stream",
     "text": [
      "Keyword arguments {'return_tensor': 'pt'} not recognized.\n"
     ]
    },
    {
     "name": "stdout",
     "output_type": "stream",
     "text": [
      "['이 방법은 1A의 제조 방법이며, 이 방법은 다음과 같다. 이 방법은: 코어 벨트 11의 배부 11이 코어 벨트 13이 묻혀있는 바부와 두 개 이상의 치아 부품 12이 다음과 같습니다. 수분을 흡수하는 천은 코어 케이블 지지 프로젝션을 가진 곰팡이에 배치되며, 코어 케이블 13을 지원하기 위해 코어 케이블 12을 형성하기 위해 두 개 이상의 발출이 형성되어, 코어 벨트 12을 적어도 코어 케이블 지지 프로젝션을 덮습니다.']\n"
     ]
    },
    {
     "name": "stderr",
     "output_type": "stream",
     "text": [
      "Keyword arguments {'return_tensor': 'pt'} not recognized.\n"
     ]
    },
    {
     "name": "stdout",
     "output_type": "stream",
     "text": [
      "['코어 와이어가 내장되어 있는 벨트 몸체와 여러 개의 치아 부분들을 포함하는 치아 벨트 제조의 방법. 치아 부분을 형성하기 위해 여러 개의 발광의 끝에서 코어 와이어를 지원하기 위해. 주머니 와이어가 지원하는 코어 발광을 가진 모형 대상에 적어도 코어 와이어가 지원하는 발광을 덮기 위해 수분을 흡수하는 천을 놓은 후, 코어 와이어가 지원하는 코어 발광을 가진 모형 대상에 적어도 코어 와이어가 지원하는 발광을 덮는 배로 덮']\n"
     ]
    },
    {
     "name": "stderr",
     "output_type": "stream",
     "text": [
      "Keyword arguments {'return_tensor': 'pt'} not recognized.\n"
     ]
    },
    {
     "name": "stdout",
     "output_type": "stream",
     "text": [
      "['가열 속도와 물 내구성 측면에서 우수한 성분을 제공하며, 고열된 물체에 뛰어난 접착 강도를 줄 수 있습니다. 또한 그 성분을 포함한 접착제와 그로부터 얻은 가열된 물체 및 그 생산 방법을 제공합니다. 성분은 급진적으로 다분화 가능한 성분 (A) 과 카티오니컬 폴리메라이즈 가능한 성분 (B) 을 포함한다. 급진적으로 다분화 가능한 성분 (A1) 은 다분화 된 접착 반지를 가진 급진적으로 다분화 가능한 성분 (A1) 을 포함합니다']\n"
     ]
    },
    {
     "name": "stderr",
     "output_type": "stream",
     "text": [
      "Keyword arguments {'return_tensor': 'pt'} not recognized.\n"
     ]
    },
    {
     "name": "stdout",
     "output_type": "stream",
     "text": [
      "['급진적으로 polimerizable 구성 요소 (a) 와 kationically polymerizable 구성 요소 (b) 를 포함하는 구성 요소 (a) 는 급진적으로 polymerizable 구성 요소 (a1) 의 70에서 100 부위 질량으로 다리형 응집 반지를 가진 급진적으로 polymerizable 구성 요소 (a) 의 100 부위 질량으로 다리형 응집 반지를 가진 급진적으로 polymerizable 구성 요소 (b) 는 kationically polymerizable 구성 요소 (b) 의 100 부위 질량으로']\n",
      "Unexpected exception formatting exception. Falling back to standard exception\n"
     ]
    },
    {
     "name": "stderr",
     "output_type": "stream",
     "text": [
      "Traceback (most recent call last):\n",
      "  File \"/home/jisukim/.local/lib/python3.8/site-packages/IPython/core/interactiveshell.py\", line 3505, in run_code\n",
      "    exec(code_obj, self.user_global_ns, self.user_ns)\n",
      "  File \"/tmp/ipykernel_36136/794408543.py\", line 4, in <module>\n",
      "    print(mt.predict(text=df.iloc[i]['en'], tgt=\"ko\"))\n",
      "  File \"/home/jisukim/KoNTA/konta/tasks/machine_translation.py\", line 80, in predict\n",
      "    translated_tokens = self.model.generate(\n",
      "  File \"/home/jisukim/.local/lib/python3.8/site-packages/torch/utils/_contextlib.py\", line 115, in decorate_context\n",
      "    return func(*args, **kwargs)\n",
      "  File \"/home/jisukim/.local/lib/python3.8/site-packages/transformers/generation/utils.py\", line 1437, in generate\n",
      "    return self.greedy_search(\n",
      "  File \"/home/jisukim/.local/lib/python3.8/site-packages/transformers/generation/utils.py\", line 2248, in greedy_search\n",
      "    outputs = self(\n",
      "  File \"/home/jisukim/.local/lib/python3.8/site-packages/torch/nn/modules/module.py\", line 1501, in _call_impl\n",
      "    return forward_call(*args, **kwargs)\n",
      "  File \"/home/jisukim/.local/lib/python3.8/site-packages/transformers/models/m2m_100/modeling_m2m_100.py\", line 1335, in forward\n",
      "    outputs = self.model(\n",
      "  File \"/home/jisukim/.local/lib/python3.8/site-packages/torch/nn/modules/module.py\", line 1501, in _call_impl\n",
      "    return forward_call(*args, **kwargs)\n",
      "  File \"/home/jisukim/.local/lib/python3.8/site-packages/transformers/models/m2m_100/modeling_m2m_100.py\", line 1226, in forward\n",
      "    decoder_outputs = self.decoder(\n",
      "  File \"/home/jisukim/.local/lib/python3.8/site-packages/torch/nn/modules/module.py\", line 1501, in _call_impl\n",
      "    return forward_call(*args, **kwargs)\n",
      "  File \"/home/jisukim/.local/lib/python3.8/site-packages/transformers/models/m2m_100/modeling_m2m_100.py\", line 1088, in forward\n",
      "    layer_outputs = decoder_layer(\n",
      "  File \"/home/jisukim/.local/lib/python3.8/site-packages/torch/nn/modules/module.py\", line 1501, in _call_impl\n",
      "    return forward_call(*args, **kwargs)\n",
      "  File \"/home/jisukim/.local/lib/python3.8/site-packages/transformers/models/m2m_100/modeling_m2m_100.py\", line 486, in forward\n",
      "    hidden_states, self_attn_weights, present_key_value = self.self_attn(\n",
      "  File \"/home/jisukim/.local/lib/python3.8/site-packages/torch/nn/modules/module.py\", line 1501, in _call_impl\n",
      "    return forward_call(*args, **kwargs)\n",
      "  File \"/home/jisukim/.local/lib/python3.8/site-packages/transformers/models/m2m_100/modeling_m2m_100.py\", line 347, in forward\n",
      "    attn_output = self.out_proj(attn_output)\n",
      "  File \"/home/jisukim/.local/lib/python3.8/site-packages/torch/nn/modules/module.py\", line 1495, in _call_impl\n",
      "    forward_call = (self._slow_forward if torch._C._get_tracing_state() else self.forward)\n",
      "KeyboardInterrupt\n",
      "\n",
      "During handling of the above exception, another exception occurred:\n",
      "\n",
      "Traceback (most recent call last):\n",
      "  File \"/home/jisukim/.local/lib/python3.8/site-packages/IPython/core/interactiveshell.py\", line 2102, in showtraceback\n",
      "    stb = self.InteractiveTB.structured_traceback(\n",
      "  File \"/home/jisukim/.local/lib/python3.8/site-packages/IPython/core/ultratb.py\", line 1310, in structured_traceback\n",
      "    return FormattedTB.structured_traceback(\n",
      "  File \"/home/jisukim/.local/lib/python3.8/site-packages/IPython/core/ultratb.py\", line 1199, in structured_traceback\n",
      "    return VerboseTB.structured_traceback(\n",
      "  File \"/home/jisukim/.local/lib/python3.8/site-packages/IPython/core/ultratb.py\", line 1052, in structured_traceback\n",
      "    formatted_exception = self.format_exception_as_a_whole(etype, evalue, etb, number_of_lines_of_context,\n",
      "  File \"/home/jisukim/.local/lib/python3.8/site-packages/IPython/core/ultratb.py\", line 978, in format_exception_as_a_whole\n",
      "    frames.append(self.format_record(record))\n",
      "  File \"/home/jisukim/.local/lib/python3.8/site-packages/IPython/core/ultratb.py\", line 878, in format_record\n",
      "    frame_info.lines, Colors, self.has_colors, lvals\n",
      "  File \"/home/jisukim/.local/lib/python3.8/site-packages/IPython/core/ultratb.py\", line 712, in lines\n",
      "    return self._sd.lines\n",
      "  File \"/home/jisukim/.local/lib/python3.8/site-packages/stack_data/utils.py\", line 144, in cached_property_wrapper\n",
      "    value = obj.__dict__[self.func.__name__] = self.func(obj)\n",
      "  File \"/home/jisukim/.local/lib/python3.8/site-packages/stack_data/core.py\", line 734, in lines\n",
      "    pieces = self.included_pieces\n",
      "  File \"/home/jisukim/.local/lib/python3.8/site-packages/stack_data/utils.py\", line 144, in cached_property_wrapper\n",
      "    value = obj.__dict__[self.func.__name__] = self.func(obj)\n",
      "  File \"/home/jisukim/.local/lib/python3.8/site-packages/stack_data/core.py\", line 677, in included_pieces\n",
      "    scope_pieces = self.scope_pieces\n",
      "  File \"/home/jisukim/.local/lib/python3.8/site-packages/stack_data/utils.py\", line 144, in cached_property_wrapper\n",
      "    value = obj.__dict__[self.func.__name__] = self.func(obj)\n",
      "  File \"/home/jisukim/.local/lib/python3.8/site-packages/stack_data/core.py\", line 614, in scope_pieces\n",
      "    scope_start, scope_end = self.source.line_range(self.scope)\n",
      "  File \"/home/jisukim/.local/lib/python3.8/site-packages/stack_data/core.py\", line 178, in line_range\n",
      "    return line_range(self.asttext(), node)\n",
      "  File \"/home/jisukim/.local/lib/python3.8/site-packages/executing/executing.py\", line 428, in asttext\n",
      "    self._asttext = ASTText(self.text, tree=self.tree, filename=self.filename)\n",
      "  File \"/home/jisukim/.local/lib/python3.8/site-packages/asttokens/asttokens.py\", line 307, in __init__\n",
      "    super(ASTText, self).__init__(source_text, filename)\n",
      "  File \"/home/jisukim/.local/lib/python3.8/site-packages/asttokens/asttokens.py\", line 44, in __init__\n",
      "    source_text = six.ensure_text(source_text)\n",
      "AttributeError: module 'six' has no attribute 'ensure_text'\n"
     ]
    }
   ],
   "source": [
    "from tqdm import tqdm\n",
    "\n",
    "for i in range(len(df)):\n",
    "    print(mt.predict(text=df.iloc[i]['en'], tgt=\"ko\"))\n",
    "    # print(konta.KoNTA(task=\"translation\", text=df.iloc[i]['en'], src=\"english\", tgt=\"korean\"))"
   ]
  },
  {
   "cell_type": "code",
   "execution_count": 6,
   "metadata": {},
   "outputs": [
    {
     "data": {
      "text/plain": [
       "'A method of manufacturing a stranded bead wire, comprising:  rotating an annular core wire in a circumferential direction thereof, while repeating a reciprocating motion of a reel around which a steel wire is wound to have an outside diameter smaller than that of the annular core wire, in which motion the reel is displaced approximately in a radial direction of the annular core wire in a way that it is relatively displaced in an approach direction on one side of a plane crossing the annular core wire, then passed through inside thereof, and displaced in a direction of distance increase on the other side of the plane, with the free rotational axis of the free rotational reel being not inclined relative to the rotational axis of the annular core wire, whereby the steel wire is tightly wound onto the annular core wire in a spiral pattern in the circumferential direction of the annular core wire.'"
      ]
     },
     "execution_count": 6,
     "metadata": {},
     "output_type": "execute_result"
    }
   ],
   "source": [
    "df.iloc[1]['en']"
   ]
  },
  {
   "cell_type": "code",
   "execution_count": null,
   "metadata": {},
   "outputs": [],
   "source": []
  }
 ],
 "metadata": {
  "kernelspec": {
   "display_name": "Python 3",
   "language": "python",
   "name": "python3"
  },
  "language_info": {
   "codemirror_mode": {
    "name": "ipython",
    "version": 3
   },
   "file_extension": ".py",
   "mimetype": "text/x-python",
   "name": "python",
   "nbconvert_exporter": "python",
   "pygments_lexer": "ipython3",
   "version": "3.8.16"
  },
  "orig_nbformat": 4
 },
 "nbformat": 4,
 "nbformat_minor": 2
}
