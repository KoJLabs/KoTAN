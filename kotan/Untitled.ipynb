{
 "cells": [
  {
   "cell_type": "code",
   "execution_count": 5,
   "id": "eaaea4b7",
   "metadata": {},
   "outputs": [],
   "source": [
    "from kotan import KoTAN"
   ]
  },
  {
   "cell_type": "code",
   "execution_count": 6,
   "id": "788669ad",
   "metadata": {},
   "outputs": [
    {
     "name": "stderr",
     "output_type": "stream",
     "text": [
      "You passed along `num_labels=3` with an incompatible id to label map: {'0': 'NEGATIVE', '1': 'POSITIVE'}. The number of labels wil be overwritten to 2.\n",
      "You passed along `num_labels=3` with an incompatible id to label map: {'0': 'NEGATIVE', '1': 'POSITIVE'}. The number of labels wil be overwritten to 2.\n"
     ]
    }
   ],
   "source": [
    "aug = KoTAN(task=\"augmentation\", level=\"fine\")"
   ]
  },
  {
   "cell_type": "code",
   "execution_count": 7,
   "id": "8fcc619c",
   "metadata": {},
   "outputs": [],
   "source": [
    "inputs = [\"ㅎㅎ 안녕? 16남이야 ㅎㅎ 우리 애기 뭐하구 있었어ㅋㅋ\", \"귀여우면 먹어주게? ㅎㅎ\", \"웅 어케 아라써 ㅎㅎ\", \"배가 너무 고파서 빨리 점심 먹고 싶어.\"]"
   ]
  },
  {
   "cell_type": "code",
   "execution_count": null,
   "id": "66ee674b",
   "metadata": {},
   "outputs": [],
   "source": [
    "inputs = [\"그거 좋지 ㅋㅋㅋ 난 같이 놀기 쉬워\", \"ㅋㅋㅋ넌 올 수 없어ㅜㅜ\", \"제발 가지마. 너가 화가 났지만 내가 할 수 있는게 없어ㅜㅜ 디코이 사랑해, 잘자. \"]"
   ]
  },
  {
   "cell_type": "code",
   "execution_count": 8,
   "id": "4097e145",
   "metadata": {},
   "outputs": [
    {
     "data": {
      "text/plain": [
       "['안녕! 16살이야 아기가 뭐 하고 있었어?', '귀엽다면 먹을래?', '응, 응 응.', '너무 배고파서 점심 먹고 싶어.']"
      ]
     },
     "execution_count": 8,
     "metadata": {},
     "output_type": "execute_result"
    }
   ],
   "source": [
    "aug.predict(inputs)"
   ]
  },
  {
   "cell_type": "code",
   "execution_count": null,
   "id": "ceea03c1",
   "metadata": {},
   "outputs": [],
   "source": []
  }
 ],
 "metadata": {
  "kernelspec": {
   "display_name": "augmentation",
   "language": "python",
   "name": "augmentation"
  },
  "language_info": {
   "codemirror_mode": {
    "name": "ipython",
    "version": 3
   },
   "file_extension": ".py",
   "mimetype": "text/x-python",
   "name": "python",
   "nbconvert_exporter": "python",
   "pygments_lexer": "ipython3",
   "version": "3.8.16"
  }
 },
 "nbformat": 4,
 "nbformat_minor": 5
}
